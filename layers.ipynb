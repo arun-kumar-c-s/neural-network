{
 "cells": [
  {
   "cell_type": "code",
   "execution_count": 39,
   "metadata": {},
   "outputs": [
    {
     "name": "stdout",
     "output_type": "stream",
     "text": [
      "[[1]\n",
      " [2]\n",
      " [3]\n",
      " [4]\n",
      " [5]]\n",
      "\n",
      "\n",
      "layer\n"
     ]
    }
   ],
   "source": [
    "import numpy as np\n",
    "class layers:\n",
    "    def __init__(self,n,inputs, name = 'layer'):\n",
    "        self.name = name\n",
    "        print(end='\\n\\n')\n",
    "        print(self.name,end='\\n')\n",
    "        self.inputs = inputs # (features/number_of_nurons,1)\n",
    "        #print(f\"Input Shape : {self.inputs.shape}\")\n",
    "        self.weights = np.random.randn(inputs.shape[0],n) # (features, number_of_nurons_in_current_layer)\n",
    "        #print(f\"Weights Shape : {self.weights.shape}\")\n",
    "        self.biases = np.random.randn(n,1) # (number_of_nurons_in_current_layer,1)\n",
    "        #print(f\"Biases Shape : {self.biases.shape}\")\n",
    "        #print(self.sigmoid())\n",
    "    \n",
    "    def linear_output(self):\n",
    "        out = np.dot(self.weights.T,self.inputs) + self.biases\n",
    "        print(f\"W.T {self.weights.T.shape} . X {self.inputs.shape} + b {self.biases.shape} = {out.shape}\")\n",
    "        return out\n",
    "\n",
    "    def sigmoid(self):\n",
    "        return 1/(1+np.exp(-self.linear_output()))\n",
    "\n",
    "inputs = np.array([[1,2,3,4,5]]).T\n",
    "print(inputs)\n",
    "l1 = layers(n = 3, inputs = inputs)"
   ]
  },
  {
   "cell_type": "code",
   "execution_count": 40,
   "metadata": {},
   "outputs": [
    {
     "name": "stdout",
     "output_type": "stream",
     "text": [
      "\n",
      "\n",
      "layer1\n",
      "W.T (10, 5) . X (5, 1) + b (10, 1) = (10, 1)\n",
      "\n",
      "\n",
      "layer2\n",
      "W.T (5, 10) . X (10, 1) + b (5, 1) = (5, 1)\n",
      "\n",
      "\n",
      "layer3\n"
     ]
    }
   ],
   "source": [
    "l1 = layers(n = 10, inputs = inputs, name='layer1')\n",
    "l2 = layers(n = 5, inputs = l1.linear_output(), name='layer2')\n",
    "l3 = layers(n = 2, inputs = l2.linear_output(), name='layer3')"
   ]
  },
  {
   "cell_type": "code",
   "execution_count": 55,
   "metadata": {},
   "outputs": [
    {
     "name": "stdout",
     "output_type": "stream",
     "text": [
      "\n",
      "\n",
      "layer1\n",
      "W.T (10, 5) . X (5, 1) + b (10, 1) = (10, 1)\n",
      "\n",
      "\n",
      "layer2\n",
      "W.T (5, 10) . X (10, 1) + b (5, 1) = (5, 1)\n",
      "\n",
      "\n",
      "layer3\n",
      "W.T (2, 5) . X (5, 1) + b (2, 1) = (2, 1)\n"
     ]
    },
    {
     "data": {
      "text/plain": [
       "array([[0.1045059 ],\n",
       "       [0.25025009]])"
      ]
     },
     "execution_count": 55,
     "metadata": {},
     "output_type": "execute_result"
    }
   ],
   "source": [
    "layers(n = 2, name='layer3', \n",
    "      inputs = layers(n = 5, name = 'layer2', \n",
    "             inputs = layers(n = 10, name = 'layer1',\n",
    "                  inputs = inputs\n",
    "             ).sigmoid()\n",
    "      ).sigmoid()\n",
    ").sigmoid()\n",
    "            "
   ]
  },
  {
   "cell_type": "code",
   "execution_count": null,
   "metadata": {},
   "outputs": [],
   "source": [
    "# NOTE: Currently the initialization of the weights and biases is random normal."
   ]
  },
  {
   "cell_type": "markdown",
   "metadata": {},
   "source": [
    "Questions:\n",
    "1. What kind of initialization is needed for the layer?\n",
    "2. "
   ]
  }
 ],
 "metadata": {
  "kernelspec": {
   "display_name": "Python 3.9.7 ('base')",
   "language": "python",
   "name": "python3"
  },
  "language_info": {
   "codemirror_mode": {
    "name": "ipython",
    "version": 3
   },
   "file_extension": ".py",
   "mimetype": "text/x-python",
   "name": "python",
   "nbconvert_exporter": "python",
   "pygments_lexer": "ipython3",
   "version": "3.9.7"
  },
  "orig_nbformat": 4,
  "vscode": {
   "interpreter": {
    "hash": "b9baaabb7af3f92ae09d746be89d264ca11beda4dade21bcf0e4e74ca662ee82"
   }
  }
 },
 "nbformat": 4,
 "nbformat_minor": 2
}
